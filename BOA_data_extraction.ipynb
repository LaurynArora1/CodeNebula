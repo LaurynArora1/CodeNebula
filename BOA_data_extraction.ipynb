import os
import ast
import pandas as pd
import requests
import github
from docstring_parser import parse

def load_repository_list(boa_file='boa_dataset_files.txt'):
   
    with open(boa_file, 'r') as f:
        repos = f.read().splitlines()
    repos = [r.split(']')[0][4:] for r in repos]
    
    return repos[:30]

def extract_docstring_from_function(func_string):
  
    try:
        parsed = ast.parse(func_string)
        for node in ast.walk(parsed):
            if isinstance(node, ast.FunctionDef):
                if node.body and isinstance(node.body[0], ast.Expr) and isinstance(node.body[0].value, ast.Str):
                    return node.body[0].value.s
        return None
    except Exception:
        return None

def extract_repo_data(access_token, repository_list):
    summary_dict = {}
    access_github = github.Github(access_token)

    # Loop through each repository in the list
    for repo_name in repository_list:
        try:
            repo = access_github.get_repo(repo_name)
            contents = repo.get_contents("")  # Get the root directory

            # Recursively explore the repository's directory structure
            while contents:
                file_content = contents.pop(0)
                if file_content.type == "dir":
                    contents.extend(repo.get_contents(file_content.path))
                else:
                    if file_content.name.endswith('.py'):
                        # Read the Python file content
                        file_text = file_content.decoded_content.decode("utf-8")

                        # Parse the Python code to extract functions
                        tree = ast.parse(file_text)
                        for node in ast.walk(tree):
                            if isinstance(node, ast.FunctionDef):
                                function_name = node.name
                                function_code = ast.unparse(node)

                                # Extract docstring and summary
                                docstring = extract_docstring_from_function(function_code)
                                if docstring:
                                    doc_parser = parse(docstring)
                                    summary = doc_parser.summary if doc_parser.summary else doc_parser.description
                                    summary_dict.update({function_name: summary})
        except Exception as e:
            print(f"Error processing repository {repo_name}: {str(e)}")

    return summary_dict

def main():
    # Replace the access_token with your own GitHub access token
    access_token = 'YOUR_ACCESS_TOKEN'

    # Provide the repository list
    with open('/content/drive/MyDrive/boa_dataset_files.txt', 'r') as f:
        repo_list = [r.split(']')[0][4:] for r in f.read().splitlines()]

    repository_data = extract_repo_data(access_token, repo_list)

    # Save the results in a CSV file
    extracted_data = pd.DataFrame.from_dict(repository_data, orient='index', columns=['Summary'])
    extracted_data.to_csv('extracted_summary.csv', index_label='Function_Name')

if __name__ == '__main__':
    main()
